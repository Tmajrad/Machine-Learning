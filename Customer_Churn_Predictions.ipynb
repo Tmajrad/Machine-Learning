{
  "nbformat": 4,
  "nbformat_minor": 0,
  "metadata": {
    "colab": {
      "provenance": []
    },
    "kernelspec": {
      "name": "python3",
      "display_name": "Python 3"
    },
    "language_info": {
      "name": "python"
    }
  },
  "cells": [
    {
      "cell_type": "markdown",
      "source": [
        "###Libraries\n"
      ],
      "metadata": {
        "id": "PAHQNf0jWbGZ"
      }
    },
    {
      "cell_type": "code",
      "source": [
        "import pandas as pd\n",
        "import numpy as np\n",
        "import matplotlib.pyplot as plt\n",
        "import seaborn as sns\n",
        "import plotly.express as px\n",
        "import ipywidgets as widgets\n",
        "\n",
        "from sklearn.impute import SimpleImputer\n",
        "from sklearn.compose import ColumnTransformer\n",
        "from sklearn.preprocessing import OneHotEncoder\n",
        "from sklearn.model_selection import train_test_split\n",
        "from sklearn.preprocessing import StandardScaler\n",
        "from sklearn.svm import LinearSVC\n",
        "from sklearn.metrics import accuracy_score, confusion_matrix, classification_report\n",
        "from sklearn.naive_bayes import GaussianNB\n",
        "from sklearn.metrics import classification_report, confusion_matrix, accuracy_score\n",
        "from sklearn.tree import DecisionTreeClassifier\n",
        "from IPython.display import display\n",
        "from termcolor import colored"
      ],
      "metadata": {
        "id": "LqfCY0Fqg7Sh"
      },
      "execution_count": null,
      "outputs": []
    },
    {
      "cell_type": "markdown",
      "source": [
        "###Reading Data\n"
      ],
      "metadata": {
        "id": "qbBeohRr7iJ7"
      }
    },
    {
      "cell_type": "code",
      "source": [
        "df = pd.read_csv('customer_churn.csv')"
      ],
      "metadata": {
        "id": "PpgBvjCYfaE9"
      },
      "execution_count": null,
      "outputs": []
    },
    {
      "cell_type": "markdown",
      "source": [
        "###Dealing with missing data (in this case there's no missing data)"
      ],
      "metadata": {
        "id": "8gE6OGbr7pju"
      }
    },
    {
      "cell_type": "code",
      "source": [
        "missing_data = df.isnull().sum() #finding the sum of missing data for each column\n",
        "print(\"Missing values in each column:\\n\")\n",
        "missing_data"
      ],
      "metadata": {
        "id": "hEsYFcpgrDzS",
        "collapsed": true
      },
      "execution_count": null,
      "outputs": []
    },
    {
      "cell_type": "code",
      "source": [
        "#setting the empty numerical data to the mean for that column\n",
        "numerical_imputer = SimpleImputer(strategy='mean')\n",
        "#setting the empty catagorical data to the most frequent for that column\n",
        "categorical_imputer = SimpleImputer(strategy='most_frequent')\n",
        "\n",
        "numerical_features = ['Age', 'Tenure', 'Usage Frequency', 'Support Calls', 'Payment Delay', 'Total Spend', 'Last Interaction']\n",
        "categorical_features = ['Gender', 'Subscription Type', 'Contract Length']\n",
        "# Fill missing numerical and categorical data\n",
        "df[numerical_features] = numerical_imputer.fit_transform(df[numerical_features])\n",
        "df[categorical_features] = categorical_imputer.fit_transform(df[categorical_features])\n",
        "df.head(5)"
      ],
      "metadata": {
        "id": "PR4-0mn4r7_B",
        "collapsed": true
      },
      "execution_count": null,
      "outputs": []
    },
    {
      "cell_type": "markdown",
      "source": [
        "###Understaning the Data with tables and visuals"
      ],
      "metadata": {
        "id": "1DD-9f5h8Bqk"
      }
    },
    {
      "cell_type": "code",
      "source": [
        "df.info()"
      ],
      "metadata": {
        "id": "KkOCLp4uqHrK",
        "collapsed": true
      },
      "execution_count": null,
      "outputs": []
    },
    {
      "cell_type": "code",
      "source": [
        "df.describe().round(2)"
      ],
      "metadata": {
        "id": "iHwAxGZup70F"
      },
      "execution_count": null,
      "outputs": []
    },
    {
      "cell_type": "code",
      "source": [
        "#reading the data divided by gender\n",
        "gender_churn = df.groupby(['Gender', 'Churn']).size().unstack().fillna(0)\n",
        "gender_churn.columns = ['Not Churned', 'Churned']\n",
        "\n",
        "sizes = [\n",
        "    gender_churn.loc['Male', 'Churned'],\n",
        "    gender_churn.loc['Male', 'Not Churned'],\n",
        "    gender_churn.loc['Female', 'Churned'],\n",
        "    gender_churn.loc['Female', 'Not Churned']\n",
        "]\n",
        "labels = [\"M: Churn\", \"M: No Churn\", \"F: Churn\", \"F: No Churn\"]\n",
        "colors = ['#ff6666', '#6666ff', '#ff9999', '#ffccff']\n",
        "\n",
        "pie_data = pd.DataFrame({\n",
        "    'Category': labels,\n",
        "    'Count': sizes\n",
        "})\n",
        "\n",
        "#create the pie chart\n",
        "fig = px.pie(pie_data, values='Count', names='Category', title='Churn by Gender',\n",
        "             color_discrete_sequence=colors, hole=0.3)\n",
        "\n",
        "#the hover information\n",
        "fig.update_traces(textinfo='percent+label', hoverinfo='label+percent+value')\n",
        "\n",
        "fig.show()\n",
        "\n",
        "#helping source: https://plotly.com/python/pie-charts/ to create an interactive pie chart"
      ],
      "metadata": {
        "collapsed": true,
        "id": "M48eiCC-n9Uy"
      },
      "execution_count": null,
      "outputs": []
    },
    {
      "cell_type": "code",
      "source": [
        "plt.figure(figsize=(10, 6))\n",
        "sns.scatterplot(x='Payment Delay', y='Total Spend', hue='Churn', palette={0: 'green', 1: 'red'}, data=df, alpha=0.6)\n",
        "\n",
        "plt.title('Payment Delay vs Total Spend')\n",
        "plt.xlabel('Payment Delay')\n",
        "plt.ylabel('Total Spend')\n",
        "plt.legend(title='Churn', loc='lower left', labels=['No Churn', 'Churn'])\n",
        "plt.show()"
      ],
      "metadata": {
        "id": "0rM1pgW80bZR"
      },
      "execution_count": null,
      "outputs": []
    },
    {
      "cell_type": "code",
      "source": [
        "print(df.columns)"
      ],
      "metadata": {
        "id": "iM6OUGg6c1NG",
        "collapsed": true
      },
      "execution_count": null,
      "outputs": []
    },
    {
      "cell_type": "markdown",
      "source": [
        "###One Hot Encoding  "
      ],
      "metadata": {
        "id": "j2nxL94V9NtU"
      }
    },
    {
      "cell_type": "code",
      "source": [
        "#changing catagorical columns to numerical\n",
        "df_encoded = OneHotEncoder(handle_unknown='ignore', sparse_output=False).set_output(transform='pandas')\n",
        "df_transformed = df_encoded.fit_transform(df[['Gender', 'Subscription Type', 'Contract Length']])\n",
        "#prints table of the OneHotEncoded columns with numerical data\n",
        "df_transformed\n",
        "#helping source: Udemy course (Machine Learning A-Z: AI, Python & R + ChatGPT Prize [2024])\n"
      ],
      "metadata": {
        "collapsed": true,
        "id": "DixBjnEqbvUz"
      },
      "execution_count": null,
      "outputs": []
    },
    {
      "cell_type": "code",
      "source": [
        "#droping the encoded columns and adding the new columns to the dataset\n",
        "df=pd.concat([df,df_transformed], axis=1).drop(columns = ['Gender', 'Subscription Type', 'Contract Length'])\n",
        "df.head(5)#check if encoded columns concatonated correctly"
      ],
      "metadata": {
        "id": "nNxnI5ZDpUUc",
        "collapsed": true
      },
      "execution_count": null,
      "outputs": []
    },
    {
      "cell_type": "markdown",
      "source": [
        "###Different Data Visualization"
      ],
      "metadata": {
        "id": "aYT-xFMr9zhZ"
      }
    },
    {
      "cell_type": "code",
      "source": [
        "#finds and prints min and max age\n",
        "min_age=df['Age'].min()\n",
        "max_age=df['Age'].max()\n",
        "print(\"Range of Ages: {} - {}\".format(min_age, max_age))\n",
        "\n",
        "sns.set(style=\"whitegrid\")\n",
        "\n",
        "#violin plot\n",
        "plt.figure(figsize=(10, 6))\n",
        "sns.violinplot(x='Churn', y='Age', data=df)\n",
        "plt.title('Distribution of Age by Churn')\n",
        "plt.xlabel('Churn')\n",
        "plt.ylabel('Age')\n",
        "plt.show()\n",
        "\n",
        "#bar graph\n",
        "age_ranges = [(18, 29), (30, 41), (42, 53), (54, 65)]\n",
        "churn_counts = []\n",
        "\n",
        "#calculate churn counts for each age range\n",
        "for age_range in age_ranges:\n",
        "    min_age, max_age = age_range\n",
        "    churn_count = df[(df['Age'] >= min_age) & (df['Age'] <= max_age)]['Churn'].sum()\n",
        "    churn_counts.append(churn_count)\n",
        "\n",
        "#using for loop to set the x label to the min and max age in the age_range list\n",
        "x_labels = ['{}-{}'.format(min_age, max_age) for min_age, max_age in age_ranges]\n",
        "\n",
        "#create bar plot\n",
        "plt.figure(figsize=(10, 6))\n",
        "bars = plt.bar(x_labels, churn_counts, color='skyblue')\n",
        "\n",
        "#adds churn count on top of bars\n",
        "for bar, count in zip(bars, churn_counts):\n",
        "    plt.text(bar.get_x() + bar.get_width() / 2, bar.get_height(), str(count),\n",
        "             ha='center', va='bottom')\n",
        "\n",
        "plt.title('Churn Count by Age Range')\n",
        "plt.xlabel('Age Range')\n",
        "plt.ylabel('Churn Count')\n",
        "plt.show()"
      ],
      "metadata": {
        "id": "XOZb0i45_I7h"
      },
      "execution_count": null,
      "outputs": []
    },
    {
      "cell_type": "code",
      "source": [
        "#features used in pair plot\n",
        "features = ['Age', 'Tenure', 'Payment Delay', 'Total Spend', 'Churn']\n",
        "sns.pairplot(df[features], hue='Churn', palette='coolwarm', diag_kind='kde')\n",
        "plt.show()\n"
      ],
      "metadata": {
        "id": "oADNsrwFN4rj"
      },
      "execution_count": null,
      "outputs": []
    },
    {
      "cell_type": "code",
      "source": [
        "correlation_matrix = df.corr()\n",
        "\n",
        "#the correlation of each feature with 'Churn'\n",
        "churn_correlation = correlation_matrix['Churn'].drop('Churn').sort_values(ascending=False)\n",
        "#drop customer ID it has nothing to do with the predictions\n",
        "churn_correlation = correlation_matrix['Churn'].drop(['Churn', 'CustomerID']).sort_values(ascending=False)\n",
        "\n",
        "#print the correlation values\n",
        "print(\"Correlation of features with Churn:\\n\", churn_correlation)\n",
        "\n",
        "#plot the correlation values\n",
        "plt.figure(figsize=(10, 6))\n",
        "sns.barplot(x=churn_correlation.values, y=churn_correlation.index, palette='coolwarm', hue=churn_correlation.index, dodge=False)\n",
        "plt.title('Correlation of Features with Churn')\n",
        "plt.xlabel('Correlation Coefficient')\n",
        "plt.ylabel('Features')\n",
        "plt.show()"
      ],
      "metadata": {
        "id": "-wDy5AsO446R"
      },
      "execution_count": null,
      "outputs": []
    },
    {
      "cell_type": "code",
      "source": [
        "print(df.describe().round(2))"
      ],
      "metadata": {
        "id": "nznW7xXHjB7m",
        "collapsed": true
      },
      "execution_count": null,
      "outputs": []
    },
    {
      "cell_type": "code",
      "source": [
        "#setting variable to churn counts from dataframe\n",
        "churn_counts = df['Churn'].value_counts().reset_index()\n",
        "churn_counts.columns = ['Churn', 'Count']\n",
        "#interactive bar chart using Ploty.express\n",
        "fig = px.bar(churn_counts, x='Churn', y='Count', title='Distribution of Churn vs Non-Churn Customers',\n",
        "             labels={'Churn': 'Churn', 'Count': 'Count'}, text='Count', color='Churn')\n",
        "fig.show()\n",
        "#helping source: https://plotly.com/python/bar-charts/"
      ],
      "metadata": {
        "collapsed": true,
        "id": "vAsBB6zJYHfn"
      },
      "execution_count": null,
      "outputs": []
    },
    {
      "cell_type": "code",
      "source": [
        "#Correlation Heatmap\n",
        "plt.figure(figsize=(15, 12))\n",
        "correlation_matrix = df.corr().round(2)\n",
        "sns.heatmap(correlation_matrix, annot=True, cmap='coolwarm', fmt='.2f')\n",
        "plt.title('Feature Correlation Heatmap')\n",
        "plt.show()"
      ],
      "metadata": {
        "id": "oe1lTkuPZXrz",
        "collapsed": true
      },
      "execution_count": null,
      "outputs": []
    },
    {
      "cell_type": "markdown",
      "source": [
        "###Splitting Data for Training and Testing"
      ],
      "metadata": {
        "id": "XLtndsnG_hrr"
      }
    },
    {
      "cell_type": "code",
      "source": [
        "#setting a varaible to CustomerID before dropping it,\n",
        "#to be used later when printing customer Id for those that where predicted to churn\n",
        "customer_ids = df['CustomerID']"
      ],
      "metadata": {
        "id": "ZAl_iVemgsOo"
      },
      "execution_count": null,
      "outputs": []
    },
    {
      "cell_type": "code",
      "source": [
        "#Splitting the dataset to train and test\n",
        "x = df.drop(columns=['CustomerID','Churn'])\n",
        "y = df['Churn']\n",
        "\n",
        "x_train, x_test, y_train, y_test, customer_ids_train, customer_ids_test = train_test_split(\n",
        "    x, y, customer_ids, test_size=0.25, random_state=1)\n",
        "#prints the split data\n",
        "print('x_train shape:', x_train.shape)\n",
        "print('x_test shape:', x_test.shape)\n",
        "print('y_train shape:', y_train.shape)\n",
        "print('y_test shape:', y_test.shape)"
      ],
      "metadata": {
        "collapsed": true,
        "id": "bIX7gBCbYWa5"
      },
      "execution_count": null,
      "outputs": []
    },
    {
      "cell_type": "code",
      "source": [
        "#Feature Scaling\n",
        "scaler = StandardScaler()\n",
        "features_to_scale = ['Age', 'Tenure', 'Usage Frequency', 'Support Calls',\n",
        "                      'Payment Delay', 'Total Spend', 'Last Interaction']\n",
        "df[features_to_scale] = scaler.fit_transform(df[features_to_scale])\n",
        "df.head(5)\n",
        "#helping source: udemy course (Machine Learning A-Z: AI, Python & R + ChatGPT Prize [2024])"
      ],
      "metadata": {
        "collapsed": true,
        "id": "lkVclJueYWFx"
      },
      "execution_count": null,
      "outputs": []
    },
    {
      "cell_type": "markdown",
      "source": [
        "###Training Different Algorithms\n",
        "\n",
        "helping source: udemy course (Machine Learning A-Z: AI, Python & R + ChatGPT Prize [2024])\n"
      ],
      "metadata": {
        "id": "Y9RvkTEnAXa_"
      }
    },
    {
      "cell_type": "code",
      "source": [
        "#Training the LinearSVC\n",
        "svm_model = LinearSVC(random_state=1, max_iter=10000)\n",
        "svm_model.fit(x_train, y_train)\n",
        "\n",
        "#Make the predictions\n",
        "svm_y_pred = svm_model.predict(x_test)\n",
        "\n",
        "#print the prediction accuracy\n",
        "print(\"LinearSVC Accuracy:\", accuracy_score(y_test, svm_y_pred))\n",
        "print(\"\\nLinearSVC Confusion Matrix:\")\n",
        "print(confusion_matrix(y_test, svm_y_pred))\n",
        "print(\"\\nLinearSVC Classification Report:\")\n",
        "print(classification_report(y_test, svm_y_pred))\n"
      ],
      "metadata": {
        "id": "ald-mkIQ59JU"
      },
      "execution_count": null,
      "outputs": []
    },
    {
      "cell_type": "code",
      "source": [
        "#combining the predictions with the customer IDs\n",
        "predicted_df = pd.DataFrame({'CustomerID': customer_ids_test, 'Predicted Churn': svm_y_pred})\n",
        "\n",
        "#printing Customer IDs of predicted churners using SVM model\n",
        "predicted_churners = predicted_df.loc[predicted_df['Predicted Churn'] == 1, 'CustomerID'].sort_values()\n",
        "print(\"Customer IDs of predicted churners using SVM model:\")\n",
        "for customer_id in predicted_churners:\n",
        "    print(\"---> \",customer_id)"
      ],
      "metadata": {
        "id": "AJ2d4plFkzkG"
      },
      "execution_count": null,
      "outputs": []
    },
    {
      "cell_type": "code",
      "source": [
        "#ROC curve for LinearSVC\n",
        "from sklearn.metrics import roc_curve, auc\n",
        "def plot_roc_curve(y_true, y_pred_scores, title):\n",
        "    fpr, tpr, _ = roc_curve(y_true, y_pred_scores)\n",
        "    roc_auc = auc(fpr, tpr)\n",
        "    plt.figure(figsize=(8, 6))\n",
        "    plt.plot(fpr, tpr, color='green', lw=2, label=f'ROC curve (area = {roc_auc:.2f})')\n",
        "    plt.plot([0, 1], [0, 1], color='navy', lw=2, linestyle='--')\n",
        "    plt.xlim([0.0, 1.0])\n",
        "    plt.ylim([0.0, 1.05])\n",
        "    plt.xlabel('False Positive Rate')\n",
        "    plt.ylabel('True Positive Rate')\n",
        "    plt.title(f'ROC Curve - {title}')\n",
        "    plt.legend(loc=\"lower right\")\n",
        "    plt.show()\n",
        "\n",
        "svm_scores = svm_model.decision_function(x_test)\n",
        "plot_roc_curve(y_test, svm_scores, 'LinearSVC')"
      ],
      "metadata": {
        "id": "nzQN9y7hGflp"
      },
      "execution_count": null,
      "outputs": []
    },
    {
      "cell_type": "code",
      "source": [
        "#training the Naive Bayes algorithm\n",
        "nb_model = GaussianNB()\n",
        "nb_model.fit(x_train, y_train)\n",
        "\n",
        "#making predictions\n",
        "nb_y_pred = nb_model.predict(x_test)\n",
        "\n",
        "#printing prediction accuracy\n",
        "print(\"Naive Bayes Accuracy:\", accuracy_score(y_test, nb_y_pred))\n",
        "print(\"\\nNaive Bayes Confusion Matrix:\")\n",
        "print(confusion_matrix(y_test, nb_y_pred))\n",
        "print(\"\\nNaive Bayes Classification Report:\")\n",
        "print(classification_report(y_test, nb_y_pred))"
      ],
      "metadata": {
        "id": "3_oKCzV2AfhO"
      },
      "execution_count": null,
      "outputs": []
    },
    {
      "cell_type": "code",
      "source": [
        "#printing out the customer Ids of those predicted to churn using Naive Bayes\n",
        "predicted_df = pd.DataFrame({'CustomerID': customer_ids_test, 'Predicted Churn': nb_y_pred})\n",
        "\n",
        "predicted_churners = predicted_df.loc[predicted_df['Predicted Churn'] == 1, 'CustomerID'].sort_values()\n",
        "print(\"Customer IDs of predicted churners using Naive Bayes:\")\n",
        "for customer_id in predicted_churners:\n",
        "    print(\"---> \",customer_id)"
      ],
      "metadata": {
        "id": "RKRgBuujkpaa"
      },
      "execution_count": null,
      "outputs": []
    },
    {
      "cell_type": "code",
      "source": [
        "def plot_roc_curve(y_true, y_pred_proba, title):\n",
        "    fpr, tpr, _ = roc_curve(y_true, y_pred_proba)\n",
        "    roc_auc = auc(fpr, tpr)\n",
        "    plt.figure(figsize=(8, 6))\n",
        "    plt.plot(fpr, tpr, color='red', lw=2, label=f'ROC curve (area = {roc_auc:.2f})')\n",
        "    plt.plot([0, 1], [0, 1], color='navy', lw=2, linestyle='--')\n",
        "    plt.xlim([0.0, 1.0])\n",
        "    plt.ylim([0.0, 1.05])\n",
        "    plt.xlabel('False Positive Rate')\n",
        "    plt.ylabel('True Positive Rate')\n",
        "    plt.title(f'ROC Curve - {title}')\n",
        "    plt.legend(loc=\"lower right\")\n",
        "    plt.show()\n",
        "\n",
        "#ROC curve for Naive Bayes\n",
        "plot_roc_curve(y_test, nb_model.predict_proba(x_test)[:, 1], 'Naive Bayes')"
      ],
      "metadata": {
        "id": "hEol5I62GO82"
      },
      "execution_count": null,
      "outputs": []
    },
    {
      "cell_type": "code",
      "source": [
        "#train Decision Tree\n",
        "dt_model = DecisionTreeClassifier(random_state=1)\n",
        "dt_model.fit(x_train, y_train)\n",
        "\n",
        "#make predictions\n",
        "dt_y_pred = dt_model.predict(x_test)\n",
        "\n",
        "#printing prediction accuracy\n",
        "print(\"Decision Tree Accuracy:\", accuracy_score(y_test, dt_y_pred))\n",
        "print(\"\\nDecision Tree Confusion Matrix:\")\n",
        "print(confusion_matrix(y_test, dt_y_pred))\n",
        "print(\"\\nDecision Tree Classification Report:\")\n",
        "print(classification_report(y_test, dt_y_pred))"
      ],
      "metadata": {
        "id": "TpCXxpGSAhhc"
      },
      "execution_count": null,
      "outputs": []
    },
    {
      "cell_type": "markdown",
      "source": [
        "Decision Tree customer predictions"
      ],
      "metadata": {
        "id": "Qp9u5uEfZzIx"
      }
    },
    {
      "cell_type": "code",
      "source": [
        "#printing out the customer Ids of those predicted to churn using Decision Tree\n",
        "predicted_df = pd.DataFrame({'CustomerID': customer_ids_test, 'Predicted Churn': dt_y_pred})\n",
        "\n",
        "predicted_churners = predicted_df.loc[predicted_df['Predicted Churn'] == 1, 'CustomerID'].sort_values()\n",
        "print(\"Customer IDs of predicted churners using :\")\n",
        "for customer_id in predicted_churners:\n",
        "    print(\"---> \",customer_id)"
      ],
      "metadata": {
        "id": "9zQLLP7UZybX"
      },
      "execution_count": null,
      "outputs": []
    },
    {
      "cell_type": "code",
      "source": [
        "def plot_roc_curve(y_true, y_pred_proba, title):\n",
        "    fpr, tpr, _ = roc_curve(y_true, y_pred_proba)\n",
        "    roc_auc = auc(fpr, tpr)\n",
        "    plt.figure(figsize=(8, 6))\n",
        "    plt.plot(fpr, tpr, color='purple', lw=2, label=f'ROC curve (area = {roc_auc:.2f})')\n",
        "    plt.plot([0, 1], [0, 1], color='navy', lw=2, linestyle='--')\n",
        "    plt.xlim([0.0, 1.0])\n",
        "    plt.ylim([0.0, 1.05])\n",
        "    plt.xlabel('False Positive Rate')\n",
        "    plt.ylabel('True Positive Rate')\n",
        "    plt.title(f'ROC Curve - {title}')\n",
        "    plt.legend(loc=\"lower right\")\n",
        "    plt.show()\n",
        "\n",
        "#ROC curve for Decision Tree\n",
        "dt_y_pred_proba = dt_model.predict_proba(x_test)[:, 1]\n",
        "plot_roc_curve(y_test, dt_y_pred_proba, 'Decision Tree')"
      ],
      "metadata": {
        "id": "-2ZZriP1H4Tp"
      },
      "execution_count": null,
      "outputs": []
    },
    {
      "cell_type": "markdown",
      "source": [
        "###Most accurate algorithm: Decision Tree\n",
        "helping source: https://www.geeksforgeeks.org/adding-value-labels-on-a-matplotlib-bar-chart/\n"
      ],
      "metadata": {
        "id": "CwbVRvjgAjMr"
      }
    },
    {
      "cell_type": "code",
      "source": [
        "#collecting the accuracy scores for each model in a list\n",
        "model_names = ['SVC', 'Naive Bayes', 'Decision Tree']\n",
        "accuracy_scores = [\n",
        "    accuracy_score(y_test, svm_y_pred),\n",
        "    accuracy_score(y_test, nb_y_pred),\n",
        "    accuracy_score(y_test, dt_y_pred)\n",
        "]\n",
        "#setting up the bar graph\n",
        "fig, ax = plt.subplots(figsize=(10, 6))\n",
        "bars = ax.bar(model_names, accuracy_scores, color=['green', 'red', 'purple'])\n",
        "\n",
        "#adding text labels with the accuracy scores\n",
        "for bar, acc in zip(bars, accuracy_scores):\n",
        "    ax.text(bar.get_x() + bar.get_width() / 2, bar.get_height(), f'{acc:.4f}',\n",
        "            ha='center', va='bottom', fontsize=12)\n",
        "\n",
        "#adding title and labels\n",
        "ax.set_title('Comparison of Model Accuracies', fontsize=16)\n",
        "ax.set_xlabel('Models', fontsize=14)\n",
        "ax.set_ylabel('Accuracy', fontsize=14)\n",
        "ax.set_ylim([0, 1])\n",
        "plt.show()"
      ],
      "metadata": {
        "id": "CjAG9GP1BeRg"
      },
      "execution_count": null,
      "outputs": []
    },
    {
      "cell_type": "markdown",
      "source": [
        "####Applying Decision Tree alogirthm to a scatter plot"
      ],
      "metadata": {
        "id": "5eokp9mrHw-_"
      }
    },
    {
      "cell_type": "code",
      "source": [
        "#reverse to orignal values for all featuers for better visualization\n",
        "original_features = scaler.inverse_transform(df[features_to_scale])\n",
        "\n",
        "original_df = pd.DataFrame(original_features, columns=features_to_scale)\n",
        "df[['Payment Delay', 'Total Spend']] = original_df[['Payment Delay', 'Total Spend']]\n",
        "\n",
        "features = ['Payment Delay', 'Total Spend']\n",
        "target = 'Churn'\n",
        "\n",
        "x = df[features] #splitting the dataset\n",
        "y = df[target]\n",
        "x_train, x_test, y_train, y_test = train_test_split(x, y, test_size=0.25, random_state=1)\n",
        "\n",
        "dt_model_sc_plot = DecisionTreeClassifier(random_state=1)\n",
        "dt_model_sc_plot.fit(x_train, y_train)#training the Decision Tree model with only these two features\n",
        "\n",
        "#creating a mesh grid and boundries\n",
        "X, Y = np.meshgrid(np.arange(0, 35, 0.1), np.arange(0, 1100, 0.1))\n",
        "\n",
        "grid = np.c_[X.ravel(), Y.ravel()]\n",
        "Z = dt_model_sc_plot.predict(grid)\n",
        "Z = Z.reshape(X.shape)\n",
        "\n",
        "plt.figure(figsize=(10, 6))\n",
        "sns.scatterplot(x='Payment Delay', y='Total Spend', hue='Churn', palette={0: 'red', 1: 'green'}, data=df, alpha=0.6)\n",
        "plt.contourf(X, Y, Z, alpha=0.3, cmap=plt.cm.RdYlGn)\n",
        "\n",
        "plt.title('Payment Delay vs Total Spend with Decision Boundary')\n",
        "plt.xlabel('Payment Delay')\n",
        "plt.ylabel('Total Spend')\n",
        "plt.legend(title='Churn', loc='lower left', labels=['No Churn', 'Churn'])\n",
        "plt.show()\n",
        "\n",
        "print(\"Decision Tree Accuracy:\", accuracy_score(y_test, dt_y_pred))\n",
        "#helping sources: udemy course (Machine Learning A-Z: AI, Python & R + ChatGPT Prize [2024])\n",
        "#https://stackoverflow.com/questions/22294241/plotting-a-decision-boundary-separating-2-classes-using-matplotlibs-pyplot"
      ],
      "metadata": {
        "id": "IMOG1lOuQcBB"
      },
      "execution_count": null,
      "outputs": []
    },
    {
      "cell_type": "markdown",
      "source": [
        "##User Input\n",
        "helping source: https://blog.neurotech.africa/interactive-results-with-jupyter-notebooks/"
      ],
      "metadata": {
        "id": "n6Ob1gIq7iv8"
      }
    },
    {
      "cell_type": "code",
      "source": [
        "#retrained the Decision Tree with user input\n",
        "x = df.drop(columns=['CustomerID', 'Churn'])\n",
        "y = df['Churn']\n",
        "\n",
        "\n",
        "x_train, x_test, y_train, y_test = train_test_split(x, y, test_size=0.25, random_state=1)\n",
        "scaler = StandardScaler()\n",
        "features_to_scale = ['Age', 'Tenure', 'Usage Frequency', 'Support Calls', 'Payment Delay', 'Total Spend', 'Last Interaction']\n",
        "scaler.fit(x_train[features_to_scale])\n",
        "\n",
        "x_train[features_to_scale] = scaler.transform(x_train[features_to_scale])\n",
        "x_test[features_to_scale] = scaler.transform(x_test[features_to_scale])\n",
        "\n",
        "dt_model_userInput = DecisionTreeClassifier(random_state=1)\n",
        "dt_model_userInput.fit(x_train, y_train)\n",
        "\n",
        "#create widgets for user inputs\n",
        "\n",
        "age = widgets.FloatText(description='Age')\n",
        "tenure = widgets.FloatText(description='Tenure')\n",
        "usage_frequency = widgets.FloatText(description='Usage Frequency')\n",
        "support_calls = widgets.FloatText(description='Support Calls')\n",
        "payment_delay = widgets.FloatText(description='Payment Delay')\n",
        "total_spend = widgets.FloatText(description='Total Spend')\n",
        "last_interaction = widgets.FloatText(description='Last Interaction')\n",
        "\n",
        "gender = widgets.Dropdown(\n",
        "    options=['Female', 'Male'],\n",
        "    description='Gender'\n",
        ")\n",
        "subscription_type = widgets.Dropdown(\n",
        "    options=['Basic', 'Premium', 'Standard'],\n",
        "    description='Subscription Type'\n",
        ")\n",
        "contract_length = widgets.Dropdown(\n",
        "    options=['Annual', 'Monthly', 'Quarterly'],\n",
        "    description='Contract Length'\n",
        ")\n",
        "\n",
        "prediction_button = widgets.Button(description='Predict Churn')#button to make prediction\n",
        "output = widgets.Output()\n",
        "\n",
        "#encoding categorical variables\n",
        "def encode_categorical(gender, subscription_type, contract_length):\n",
        "    encoded = []\n",
        "    encoded.append(1 if gender == 'Male' else 0)\n",
        "    encoded.append(1 if gender == 'Female' else 0)\n",
        "    encoded.append(1 if subscription_type == 'Basic' else 0)\n",
        "    encoded.append(1 if subscription_type == 'Premium' else 0)\n",
        "    encoded.append(1 if subscription_type == 'Standard' else 0)\n",
        "    encoded.append(1 if contract_length == 'Annual' else 0)\n",
        "    encoded.append(1 if contract_length == 'Monthly' else 0)\n",
        "    encoded.append(1 if contract_length == 'Quarterly' else 0)\n",
        "    return encoded\n",
        "\n",
        "#function to make prediction\n",
        "def predict_churn(b):\n",
        "    numerical_inputs = np.array([\n",
        "        age.value, tenure.value, usage_frequency.value, support_calls.value,\n",
        "        payment_delay.value, total_spend.value, last_interaction.value\n",
        "    ]).reshape(1, -1)\n",
        "    scaled_numerical_inputs = scaler.transform(numerical_inputs)\n",
        "    categorical_inputs = encode_categorical(gender.value, subscription_type.value, contract_length.value)\n",
        "    input_features = np.concatenate([scaled_numerical_inputs.flatten(), categorical_inputs])\n",
        "    prediction = dt_model_userInput.predict([input_features])[0]\n",
        "    with output:\n",
        "        output.clear_output()\n",
        "        if prediction == 1:\n",
        "            print(\"\\n----------->Prediction: Churn<-----------\\n\\n\\n\")\n",
        "        else:\n",
        "            print(\"\\n----------->Prediction: No Churn<-----------\\n\\n\\n\")\n",
        "\n",
        "prediction_button.on_click(predict_churn)#adding the predict_churn function to the button\n",
        "\n",
        "#display widgets\n",
        "display(age, tenure, usage_frequency, support_calls, payment_delay, total_spend, last_interaction,\n",
        "        gender, subscription_type, contract_length, prediction_button, output)"
      ],
      "metadata": {
        "id": "eg_myQccfoID",
        "collapsed": true
      },
      "execution_count": null,
      "outputs": []
    }
  ]
}